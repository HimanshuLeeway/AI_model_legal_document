{
  "nbformat": 4,
  "nbformat_minor": 0,
  "metadata": {
    "colab": {
      "provenance": []
    },
    "kernelspec": {
      "name": "python3",
      "display_name": "Python 3"
    },
    "language_info": {
      "name": "python"
    }
  },
  "cells": [
    {
      "cell_type": "code",
      "source": [
        "!pip install python-docx\n"
      ],
      "metadata": {
        "colab": {
          "base_uri": "https://localhost:8080/"
        },
        "id": "j01_3Nw1LdLz",
        "outputId": "cfdf08d0-cb44-4dfd-dcf6-fdf9483a1609"
      },
      "execution_count": 12,
      "outputs": [
        {
          "output_type": "stream",
          "name": "stdout",
          "text": [
            "Looking in indexes: https://pypi.org/simple, https://us-python.pkg.dev/colab-wheels/public/simple/\n",
            "Requirement already satisfied: python-docx in /usr/local/lib/python3.9/dist-packages (0.8.11)\n",
            "Requirement already satisfied: lxml>=2.3.2 in /usr/local/lib/python3.9/dist-packages (from python-docx) (4.9.2)\n"
          ]
        }
      ]
    },
    {
      "cell_type": "code",
      "source": [
        "import spacy\n",
        "import docx\n"
      ],
      "metadata": {
        "id": "35eVwcYkCiBy"
      },
      "execution_count": 13,
      "outputs": []
    },
    {
      "cell_type": "code",
      "execution_count": 14,
      "metadata": {
        "id": "OLrmKv_-CcF5"
      },
      "outputs": [],
      "source": [
        "nlp = spacy.load(\"en_core_web_sm\")"
      ]
    },
    {
      "cell_type": "code",
      "source": [
        "doc = docx.Document('/content/Document 6 (3).docx')\n"
      ],
      "metadata": {
        "id": "L-w_l8SBKlOW"
      },
      "execution_count": 15,
      "outputs": []
    },
    {
      "cell_type": "code",
      "source": [
        "paragraphs =''\n",
        "\n",
        "# Iterate over each paragraph in the document\n",
        "for para in doc.paragraphs:\n",
        "    # Append the text of the paragraph to the list\n",
        "    paragraphs = paragraphs+para.text\n",
        "    print(para.text)\n",
        "    "
      ],
      "metadata": {
        "id": "Xssoz4B0JbuW",
        "colab": {
          "base_uri": "https://localhost:8080/"
        },
        "outputId": "ca842b6b-4ab3-4eb4-aee7-1a48e43689dc"
      },
      "execution_count": 16,
      "outputs": [
        {
          "output_type": "stream",
          "name": "stdout",
          "text": [
            "This Agreement (“Agreement”) is made and entered into on this 8th day of April, 2023, by and between ETHAN , and  OLIVIA, residing at 456 Oak Street, Anytown, USA (“ OLIVIA”)  with a liability of rs 500000 .\n"
          ]
        }
      ]
    },
    {
      "cell_type": "code",
      "source": [
        "paragraphs"
      ],
      "metadata": {
        "colab": {
          "base_uri": "https://localhost:8080/",
          "height": 53
        },
        "id": "HtGSU938gh3D",
        "outputId": "b7405ca8-e739-4e80-9746-e994638e588c"
      },
      "execution_count": 8,
      "outputs": [
        {
          "output_type": "execute_result",
          "data": {
            "text/plain": [
              "'This Agreement (“Agreement”) is made and entered into on this 8th day of April, 2023, by and between ETHAN , and  OLIVIA, residing at 456 Oak Street, Anytown, USA (“ OLIVIA”)  with a liability of rs 500000 .'"
            ],
            "application/vnd.google.colaboratory.intrinsic+json": {
              "type": "string"
            }
          },
          "metadata": {},
          "execution_count": 8
        }
      ]
    },
    {
      "cell_type": "code",
      "source": [
        "doc = nlp(paragraphs)\n",
        "\n",
        "parties = []\n",
        "\n",
        "person_count = 0\n",
        "\n",
        "for j in doc.ents:\n",
        "  if j.label_ == \"PERSON\" or j.label_ == \"ORG\" or j.label_ == \"NORP\" or j.label_ == \"ORDINAL\" :\n",
        "    parties.append(j.text)\n",
        "    person_count += 1\n",
        "\n",
        "  if person_count >=2:\n",
        "    break\n",
        "\n",
        "print(\"Parties involved in Agreement:\",parties)\n",
        "\n",
        "timeline = None\n",
        "for j in doc.ents:\n",
        "  if j.label_ == \"DATE\":\n",
        "    timeline = j.text\n",
        "    break\n",
        "print(\"Timeline of the agreement :\", timeline)\n",
        "\n",
        "liabilities = []\n",
        "for i, token in enumerate(doc):\n",
        "  if token.text == \"rs\" and i+1 <len(doc):\n",
        "    liabilities.append(doc[i+1].text)\n",
        "print(\"Liabilities of :\",liabilities)\n"
      ],
      "metadata": {
        "colab": {
          "base_uri": "https://localhost:8080/"
        },
        "id": "d27qAlgGMpPi",
        "outputId": "875f15c9-7c13-4308-ccc8-437427802733"
      },
      "execution_count": 17,
      "outputs": [
        {
          "output_type": "stream",
          "name": "stdout",
          "text": [
            "Parties involved in Agreement: ['ETHAN', 'OLIVIA']\n",
            "Timeline of the agreement : this 8th day of April, 2023\n",
            "Liabilities of : ['500000']\n"
          ]
        }
      ]
    },
    {
      "cell_type": "markdown",
      "source": [],
      "metadata": {
        "id": "FXIjN4WcO8e6"
      }
    },
    {
      "cell_type": "markdown",
      "source": [],
      "metadata": {
        "id": "jOZKb_kKJbiV"
      }
    }
  ]
}